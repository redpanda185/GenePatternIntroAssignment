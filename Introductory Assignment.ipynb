{
 "cells": [
  {
   "cell_type": "code",
   "execution_count": null,
   "id": "69dadc2e",
   "metadata": {},
   "outputs": [],
   "source": [
    "import pandas as pd\n",
    "from cmapPy.pandasGEXpress.parse_gct import parse\n",
    "from cmapPy.pandasGEXpress.write_gct import write\n",
    "from matplotlib import pyplot as plt\n",
    "import numpy as np"
   ]
  },
  {
   "cell_type": "code",
   "execution_count": null,
   "id": "e52b3b27",
   "metadata": {},
   "outputs": [],
   "source": [
    "def readFile(file, summary):\n",
    "    gct = parse(file)\n",
    "    df = gct.data_df\n",
    "    if summary:\n",
    "        print(f\"Rows: {len(df)}\" )\n",
    "        print(f\"Columns: {len(df.columns)}\")\n",
    "    return df"
   ]
  },
  {
   "cell_type": "code",
   "execution_count": null,
   "id": "aa14fc3a",
   "metadata": {},
   "outputs": [],
   "source": [
    "readFile(\"BRCA.gct\", True)"
   ]
  },
  {
   "cell_type": "markdown",
   "id": "162134d6",
   "metadata": {},
   "source": []
  },
  {
   "cell_type": "code",
   "execution_count": null,
   "id": "3c6e8d08",
   "metadata": {},
   "outputs": [],
   "source": [
    "f2 = readFile(\"BRCA_large.gct\", True)"
   ]
  },
  {
   "cell_type": "code",
   "execution_count": null,
   "id": "67b21c6a",
   "metadata": {},
   "outputs": [],
   "source": [
    "l = [\"A7-A0DB-normal\", \n",
    "     \"A7-A13E-normal\", \n",
    "     \"BH-A0B3-primary\", \n",
    "     \"BH-A0B5-primary\"\n",
    "    ]\n",
    "for item in l:\n",
    "    v = f2[item]\n",
    "    plt.hist(v, bins=40)\n",
    "    plt.show()"
   ]
  },
  {
   "cell_type": "code",
   "execution_count": null,
   "id": "c6a7d466",
   "metadata": {},
   "outputs": [],
   "source": [
    "new_list = []\n",
    "for sample in f2.columns:\n",
    "    name = sample\n",
    "    mean = np.mean(f2[sample])\n",
    "    median = np.median(f2[sample])\n",
    "    std = np.std(f2[sample])\n",
    "    sublist = [name, mean, median, std]\n",
    "    new_list.append(sublist)\n",
    "column_names = [\"Name\", \"Mean\", \"Median\", \"Standard Deviation\"]\n",
    "f2_sum = pd.DataFrame(new_list, columns = column_names)\n",
    "f2_sum.set_index(\"Name\", inplace = True)\n",
    "display(f2_sum)"
   ]
  },
  {
   "cell_type": "code",
   "execution_count": null,
   "id": "adb17df1",
   "metadata": {},
   "outputs": [],
   "source": [
    "f2_std = []\n",
    "for row in range(len(f2.index)):\n",
    "    name = f2.index[row]\n",
    "    std = np.std(f2.iloc[row])\n",
    "    var = [name, std]\n",
    "    f2_std.append(var)\n",
    "f2_std_df = pd.DataFrame(f2_std, columns = [\"Name\", \"Standard Deviation\"])"
   ]
  },
  {
   "cell_type": "code",
   "execution_count": null,
   "id": "a6ed837b",
   "metadata": {},
   "outputs": [],
   "source": [
    "display(f2_std_df)"
   ]
  },
  {
   "cell_type": "code",
   "execution_count": null,
   "id": "c6b08a49",
   "metadata": {},
   "outputs": [],
   "source": [
    "nRows = len(f2_std_df)//10\n",
    "maxRows = f2_std_df.nlargest(nRows, columns = \"Standard Deviation\")\n",
    "print(maxRows)\n",
    "print(len(f2))\n",
    "f2_dropped = f2.drop(index = maxRows[\"Name\"])\n",
    "print(len(f2_dropped))"
   ]
  },
  {
   "cell_type": "code",
   "execution_count": null,
   "id": "cc1e761f",
   "metadata": {},
   "outputs": [],
   "source": [
    "f2_sum2_list = []\n",
    "for sample in f2.columns:\n",
    "    name = sample\n",
    "    mean = np.mean(f2[sample])\n",
    "    median = np.median(f2[sample])\n",
    "    sublist = [name, mean, median]\n",
    "    f2_sum2_list.append(sublist)\n",
    "column_names = [\"Name\", \"Mean\", \"Median\"]\n",
    "f2_sum2 = pd.DataFrame(f2_sum2_list, columns = column_names)\n",
    "f2_sum2.set_index(\"Name\", inplace = True)\n",
    "display(f2_sum2)"
   ]
  },
  {
   "cell_type": "code",
   "execution_count": null,
   "id": "204a89d4",
   "metadata": {},
   "outputs": [],
   "source": [
    "for item in l:\n",
    "    v = f2_dropped[item]\n",
    "    plt.hist(v, bins=40)\n",
    "    plt.show()"
   ]
  }
 ],
 "metadata": {
  "kernelspec": {
   "display_name": "Python 3",
   "language": "python",
   "name": "python3"
  },
  "language_info": {
   "codemirror_mode": {
    "name": "ipython",
    "version": 3
   },
   "file_extension": ".py",
   "mimetype": "text/x-python",
   "name": "python",
   "nbconvert_exporter": "python",
   "pygments_lexer": "ipython3",
   "version": "3.9.2"
  },
  "toc": {
   "base_numbering": 1,
   "nav_menu": {},
   "number_sections": false,
   "sideBar": true,
   "skip_h1_title": false,
   "title_cell": "Table of Contents",
   "title_sidebar": "Contents",
   "toc_cell": false,
   "toc_position": {},
   "toc_section_display": true,
   "toc_window_display": false
  }
 },
 "nbformat": 4,
 "nbformat_minor": 5
}
